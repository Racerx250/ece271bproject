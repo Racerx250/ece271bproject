{
 "cells": [
  {
   "cell_type": "code",
   "execution_count": 4,
   "metadata": {},
   "outputs": [],
   "source": [
    "import numpy as np\n",
    "import pandas as pd\n",
    "import matplotlib.pyplot as plt\n",
    "\n",
    "# Root Mean Square Percentage Error (RMSPE)\n",
    "def calculate_accuracy(real, predict):\n",
    "    real = np.array(real)\n",
    "    predict = np.array(predict)\n",
    "    percentage = 1 - np.sqrt(np.mean(np.square((real - predict) / real)))\n",
    "    return percentage * 100\n",
    "\n",
    "test_size = 20"
   ]
  },
  {
   "cell_type": "code",
   "execution_count": 5,
   "metadata": {},
   "outputs": [],
   "source": [
    "results = np.load('nflx_lstm.npy')\n",
    "results2 = np.load('nflx_lstm_bid.npy')\n",
    "results3 = np.load('nflx_lstm_2p.npy')\n",
    "results4 = np.load('nflx_gru.npy')\n",
    "results5 = np.load('nflx_gru_bid.npy')\n",
    "results6 = np.load('nflx_gru_2p.npy')\n",
    "results7 = np.load('nflx_vrnn.npy')\n",
    "results8 = np.load('nflx_vrnn_bid.npy')\n",
    "results9 = np.load('nflx_vrnn_2p.npy')\n",
    "results10 = np.load('nflx_seq2seq.npy')\n",
    "results11 = np.load('nflx_seq2seq_bid.npy')\n",
    "results12 = np.load('nflx_seq2seq_vae.npy')\n",
    "results13 = np.load('nflx_gru_seq2seq.npy')\n",
    "results14 = np.load('nflx_grubid_seq2seq.npy')\n",
    "results15 = np.load('nflx_gruvae_seq2seq.npy')\n",
    "df = np.load('nflx.npy')\n",
    "df = pd.DataFrame(data=df, columns=[\"4. close\"])"
   ]
  },
  {
   "cell_type": "code",
   "execution_count": 6,
   "metadata": {},
   "outputs": [],
   "source": [
    "a1 = np.mean(results, axis=0)\n",
    "a2 = np.mean(results2, axis=0)\n",
    "a3 = np.mean(results3, axis=0)\n",
    "a4 = np.mean(results4, axis=0)\n",
    "a5 = np.mean(results5, axis=0)\n",
    "a6 = np.mean(results6, axis=0)\n",
    "a7 = np.mean(results7, axis=0)\n",
    "a8 = np.mean(results8, axis=0)\n",
    "a9 = np.mean(results9, axis=0)\n",
    "a10 = np.mean(results10, axis=0)\n",
    "a11 = np.mean(results11, axis=0)\n",
    "a12 = np.mean(results12, axis=0)\n",
    "a13 = np.mean(results13, axis=0)\n",
    "a14 = np.mean(results14, axis=0)\n",
    "a15 = np.mean(results15, axis=0)\n",
    "a = [a1, a2, a3, a4, a5, a6, a7, a8, a9, a10, a11, a12, a13, a14, a15]"
   ]
  },
  {
   "cell_type": "code",
   "execution_count": 7,
   "metadata": {},
   "outputs": [],
   "source": [
    "best1 = results[4]\n",
    "best2 = results2[4]\n",
    "best3 = results3[4]\n",
    "best4 = results4[4]\n",
    "best5 = results5[4]\n",
    "best6 = results6[4]\n",
    "best7 = results7[4]\n",
    "best8 = results8[4]\n",
    "best9 = results9[4]\n",
    "best10 = results10[4]\n",
    "best11 = results11[4]\n",
    "best12 = results12[4]\n",
    "best13 = results13[4]\n",
    "best14 = results14[4]\n",
    "best15 = results15[4]"
   ]
  },
  {
   "cell_type": "code",
   "execution_count": 8,
   "metadata": {},
   "outputs": [
    {
     "ename": "ValueError",
     "evalue": "operands could not be broadcast together with shapes (30,) (20,) ",
     "output_type": "error",
     "traceback": [
      "\u001b[0;31m---------------------------------------------------------------------------\u001b[0m",
      "\u001b[0;31mValueError\u001b[0m                                Traceback (most recent call last)",
      "\u001b[0;32m<ipython-input-8-9040f0031a84>\u001b[0m in \u001b[0;36m<module>\u001b[0;34m\u001b[0m\n\u001b[0;32m----> 1\u001b[0;31m \u001b[0moverall\u001b[0m \u001b[0;34m=\u001b[0m \u001b[0;34m[\u001b[0m\u001b[0mcalculate_accuracy\u001b[0m\u001b[0;34m(\u001b[0m\u001b[0mdf\u001b[0m\u001b[0;34m[\u001b[0m\u001b[0;34m'4. close'\u001b[0m\u001b[0;34m]\u001b[0m\u001b[0;34m.\u001b[0m\u001b[0miloc\u001b[0m\u001b[0;34m[\u001b[0m\u001b[0;34m-\u001b[0m\u001b[0mtest_size\u001b[0m\u001b[0;34m:\u001b[0m\u001b[0;34m]\u001b[0m\u001b[0;34m.\u001b[0m\u001b[0mvalues\u001b[0m\u001b[0;34m,\u001b[0m \u001b[0mr\u001b[0m\u001b[0;34m)\u001b[0m \u001b[0;32mfor\u001b[0m \u001b[0mr\u001b[0m \u001b[0;32min\u001b[0m \u001b[0ma\u001b[0m\u001b[0;34m]\u001b[0m\u001b[0;34m\u001b[0m\u001b[0;34m\u001b[0m\u001b[0m\n\u001b[0m\u001b[1;32m      2\u001b[0m \u001b[0mplt\u001b[0m\u001b[0;34m.\u001b[0m\u001b[0mfigure\u001b[0m\u001b[0;34m(\u001b[0m\u001b[0mfigsize\u001b[0m \u001b[0;34m=\u001b[0m \u001b[0;34m(\u001b[0m\u001b[0;36m20\u001b[0m\u001b[0;34m,\u001b[0m \u001b[0;36m5\u001b[0m\u001b[0;34m)\u001b[0m\u001b[0;34m)\u001b[0m\u001b[0;34m\u001b[0m\u001b[0;34m\u001b[0m\u001b[0m\n\u001b[1;32m      3\u001b[0m \u001b[0mplt\u001b[0m\u001b[0;34m.\u001b[0m\u001b[0mplot\u001b[0m\u001b[0;34m(\u001b[0m\u001b[0ma1\u001b[0m\u001b[0;34m,\u001b[0m \u001b[0mlabel\u001b[0m \u001b[0;34m=\u001b[0m \u001b[0;34m'LSTM'\u001b[0m\u001b[0;34m)\u001b[0m\u001b[0;34m\u001b[0m\u001b[0;34m\u001b[0m\u001b[0m\n\u001b[1;32m      4\u001b[0m \u001b[0mplt\u001b[0m\u001b[0;34m.\u001b[0m\u001b[0mplot\u001b[0m\u001b[0;34m(\u001b[0m\u001b[0ma2\u001b[0m\u001b[0;34m,\u001b[0m \u001b[0mlabel\u001b[0m \u001b[0;34m=\u001b[0m \u001b[0;34m'LSTM (bidirectional)'\u001b[0m\u001b[0;34m)\u001b[0m\u001b[0;34m\u001b[0m\u001b[0;34m\u001b[0m\u001b[0m\n\u001b[1;32m      5\u001b[0m \u001b[0mplt\u001b[0m\u001b[0;34m.\u001b[0m\u001b[0mplot\u001b[0m\u001b[0;34m(\u001b[0m\u001b[0ma3\u001b[0m\u001b[0;34m,\u001b[0m \u001b[0mlabel\u001b[0m \u001b[0;34m=\u001b[0m \u001b[0;34m'LSTM (2 path)'\u001b[0m\u001b[0;34m)\u001b[0m\u001b[0;34m\u001b[0m\u001b[0;34m\u001b[0m\u001b[0m\n",
      "\u001b[0;32m<ipython-input-8-9040f0031a84>\u001b[0m in \u001b[0;36m<listcomp>\u001b[0;34m(.0)\u001b[0m\n\u001b[0;32m----> 1\u001b[0;31m \u001b[0moverall\u001b[0m \u001b[0;34m=\u001b[0m \u001b[0;34m[\u001b[0m\u001b[0mcalculate_accuracy\u001b[0m\u001b[0;34m(\u001b[0m\u001b[0mdf\u001b[0m\u001b[0;34m[\u001b[0m\u001b[0;34m'4. close'\u001b[0m\u001b[0;34m]\u001b[0m\u001b[0;34m.\u001b[0m\u001b[0miloc\u001b[0m\u001b[0;34m[\u001b[0m\u001b[0;34m-\u001b[0m\u001b[0mtest_size\u001b[0m\u001b[0;34m:\u001b[0m\u001b[0;34m]\u001b[0m\u001b[0;34m.\u001b[0m\u001b[0mvalues\u001b[0m\u001b[0;34m,\u001b[0m \u001b[0mr\u001b[0m\u001b[0;34m)\u001b[0m \u001b[0;32mfor\u001b[0m \u001b[0mr\u001b[0m \u001b[0;32min\u001b[0m \u001b[0ma\u001b[0m\u001b[0;34m]\u001b[0m\u001b[0;34m\u001b[0m\u001b[0;34m\u001b[0m\u001b[0m\n\u001b[0m\u001b[1;32m      2\u001b[0m \u001b[0mplt\u001b[0m\u001b[0;34m.\u001b[0m\u001b[0mfigure\u001b[0m\u001b[0;34m(\u001b[0m\u001b[0mfigsize\u001b[0m \u001b[0;34m=\u001b[0m \u001b[0;34m(\u001b[0m\u001b[0;36m20\u001b[0m\u001b[0;34m,\u001b[0m \u001b[0;36m5\u001b[0m\u001b[0;34m)\u001b[0m\u001b[0;34m)\u001b[0m\u001b[0;34m\u001b[0m\u001b[0;34m\u001b[0m\u001b[0m\n\u001b[1;32m      3\u001b[0m \u001b[0mplt\u001b[0m\u001b[0;34m.\u001b[0m\u001b[0mplot\u001b[0m\u001b[0;34m(\u001b[0m\u001b[0ma1\u001b[0m\u001b[0;34m,\u001b[0m \u001b[0mlabel\u001b[0m \u001b[0;34m=\u001b[0m \u001b[0;34m'LSTM'\u001b[0m\u001b[0;34m)\u001b[0m\u001b[0;34m\u001b[0m\u001b[0;34m\u001b[0m\u001b[0m\n\u001b[1;32m      4\u001b[0m \u001b[0mplt\u001b[0m\u001b[0;34m.\u001b[0m\u001b[0mplot\u001b[0m\u001b[0;34m(\u001b[0m\u001b[0ma2\u001b[0m\u001b[0;34m,\u001b[0m \u001b[0mlabel\u001b[0m \u001b[0;34m=\u001b[0m \u001b[0;34m'LSTM (bidirectional)'\u001b[0m\u001b[0;34m)\u001b[0m\u001b[0;34m\u001b[0m\u001b[0;34m\u001b[0m\u001b[0m\n\u001b[1;32m      5\u001b[0m \u001b[0mplt\u001b[0m\u001b[0;34m.\u001b[0m\u001b[0mplot\u001b[0m\u001b[0;34m(\u001b[0m\u001b[0ma3\u001b[0m\u001b[0;34m,\u001b[0m \u001b[0mlabel\u001b[0m \u001b[0;34m=\u001b[0m \u001b[0;34m'LSTM (2 path)'\u001b[0m\u001b[0;34m)\u001b[0m\u001b[0;34m\u001b[0m\u001b[0;34m\u001b[0m\u001b[0m\n",
      "\u001b[0;32m<ipython-input-4-df4f68f2b691>\u001b[0m in \u001b[0;36mcalculate_accuracy\u001b[0;34m(real, predict)\u001b[0m\n\u001b[1;32m      7\u001b[0m     \u001b[0mreal\u001b[0m \u001b[0;34m=\u001b[0m \u001b[0mnp\u001b[0m\u001b[0;34m.\u001b[0m\u001b[0marray\u001b[0m\u001b[0;34m(\u001b[0m\u001b[0mreal\u001b[0m\u001b[0;34m)\u001b[0m\u001b[0;34m\u001b[0m\u001b[0;34m\u001b[0m\u001b[0m\n\u001b[1;32m      8\u001b[0m     \u001b[0mpredict\u001b[0m \u001b[0;34m=\u001b[0m \u001b[0mnp\u001b[0m\u001b[0;34m.\u001b[0m\u001b[0marray\u001b[0m\u001b[0;34m(\u001b[0m\u001b[0mpredict\u001b[0m\u001b[0;34m)\u001b[0m\u001b[0;34m\u001b[0m\u001b[0;34m\u001b[0m\u001b[0m\n\u001b[0;32m----> 9\u001b[0;31m     \u001b[0mpercentage\u001b[0m \u001b[0;34m=\u001b[0m \u001b[0;36m1\u001b[0m \u001b[0;34m-\u001b[0m \u001b[0mnp\u001b[0m\u001b[0;34m.\u001b[0m\u001b[0msqrt\u001b[0m\u001b[0;34m(\u001b[0m\u001b[0mnp\u001b[0m\u001b[0;34m.\u001b[0m\u001b[0mmean\u001b[0m\u001b[0;34m(\u001b[0m\u001b[0mnp\u001b[0m\u001b[0;34m.\u001b[0m\u001b[0msquare\u001b[0m\u001b[0;34m(\u001b[0m\u001b[0;34m(\u001b[0m\u001b[0mreal\u001b[0m \u001b[0;34m-\u001b[0m \u001b[0mpredict\u001b[0m\u001b[0;34m)\u001b[0m \u001b[0;34m/\u001b[0m \u001b[0mreal\u001b[0m\u001b[0;34m)\u001b[0m\u001b[0;34m)\u001b[0m\u001b[0;34m)\u001b[0m\u001b[0;34m\u001b[0m\u001b[0;34m\u001b[0m\u001b[0m\n\u001b[0m\u001b[1;32m     10\u001b[0m     \u001b[0;32mreturn\u001b[0m \u001b[0mpercentage\u001b[0m \u001b[0;34m*\u001b[0m \u001b[0;36m100\u001b[0m\u001b[0;34m\u001b[0m\u001b[0;34m\u001b[0m\u001b[0m\n\u001b[1;32m     11\u001b[0m \u001b[0;34m\u001b[0m\u001b[0m\n",
      "\u001b[0;31mValueError\u001b[0m: operands could not be broadcast together with shapes (30,) (20,) "
     ]
    }
   ],
   "source": [
    "overall = [calculate_accuracy(df['4. close'].iloc[-test_size:].values, r) for r in a]\n",
    "plt.figure(figsize = (20, 5))\n",
    "plt.plot(a1, label = 'LSTM')\n",
    "plt.plot(a2, label = 'LSTM (bidirectional)')\n",
    "plt.plot(a3, label = 'LSTM (2 path)')\n",
    "plt.plot(a4, label = 'GRU')\n",
    "plt.plot(a5, label = 'GRU (bidirectional)')\n",
    "plt.plot(a6, label = 'GRU (2 path)')\n",
    "plt.plot(a7, label = 'Vanilla RNN')\n",
    "plt.plot(a8, label = 'Vanilla RNN (bidirectional)')\n",
    "plt.plot(a9, label = 'Vanilla RNN (2 path)')\n",
    "plt.plot(a10, label = 'LSTM seq-to-seq')\n",
    "plt.plot(a11, label = 'LSTM seq-to-seq (bidirectional)')\n",
    "plt.plot(a12, label = 'LSTM seq-to-seq (variable autoencoder)')\n",
    "plt.plot(a13, label = 'GRU seq-to-seq')\n",
    "plt.plot(a14, label = 'GRU seq-to-seq (bidirectional)')\n",
    "plt.plot(a15, label = 'GRU seq-to-seq (variable autoencoder)')\n",
    "plt.plot(df['4. close'].iloc[-test_size:].values, label = 'true trend', c = 'black')\n",
    "plt.legend(loc= 'upper right', bbox_to_anchor=(1.3, 1.05))\n",
    "plt.title('All Model Predictions (mean of top 5)')\n",
    "plt.grid(True)\n",
    "plt.autoscale(axis='x', tight=True)\n",
    "plt.show()\n",
    "print(overall)"
   ]
  },
  {
   "cell_type": "code",
   "execution_count": null,
   "metadata": {},
   "outputs": [],
   "source": [
    "plt.figure(figsize = (20, 5))\n",
    "plt.plot(best1, label = 'LSTM')\n",
    "plt.plot(best2, label = 'LSTM (bidirectional)')\n",
    "plt.plot(best3, label = 'LSTM (2 path)')\n",
    "plt.plot(best4, label = 'GRU')\n",
    "plt.plot(best5, label = 'GRU (bidirectional)')\n",
    "plt.plot(best6, label = 'GRU (2 path)')\n",
    "plt.plot(best7, label = 'Vanilla RNN')\n",
    "plt.plot(best8, label = 'Vanilla RNN (bidirectional)')\n",
    "plt.plot(best9, label = 'Vanilla RNN (2 path)')\n",
    "plt.plot(best10, label = 'LSTM seq-to-seq')\n",
    "plt.plot(best11, label = 'LSTM seq-to-seq (bidirectional)')\n",
    "plt.plot(best12, label = 'LSTM seq-to-seq (variable autoencoder)')\n",
    "plt.plot(best13, label = 'GRU seq-to-seq')\n",
    "plt.plot(best14, label = 'GRU seq-to-seq (bidirectional)')\n",
    "plt.plot(best15, label = 'GRU seq-to-seq (variable autoencoder)')\n",
    "plt.plot(df['4. close'].iloc[-test_size:].values, label = 'true trend', c = 'black')\n",
    "plt.legend(loc= 'upper right', bbox_to_anchor=(1.3, 1.05))\n",
    "plt.title('All Model Predictions (Best)')\n",
    "plt.grid(True)\n",
    "plt.autoscale(axis='x', tight=True)\n",
    "plt.show()"
   ]
  },
  {
   "cell_type": "code",
   "execution_count": null,
   "metadata": {},
   "outputs": [],
   "source": [
    "def trend_classifier(test_pred, test_labels, test_size):\n",
    "    classification = np.zeros(test_size)\n",
    "    class_labels = np.zeros(test_size)\n",
    "    for i in range(test_size):\n",
    "        c = np.sign(test_labels.iloc[-test_size:].values[i] - test_labels.iloc[-(test_size + 1):].values[i])\n",
    "        if i == 0:\n",
    "            b = np.sign(test_pred[i] - test_labels.iloc[-(test_size + 1):].values[i])\n",
    "        else:\n",
    "            b = np.sign(test_pred[i] - test_pred[i-1])\n",
    "        \n",
    "        class_labels[i] = c\n",
    "        classification[i] = b\n",
    "        \n",
    "    x = np.arange(0, test_size, 1)\n",
    "    plt.ylabel('Overall Trend')\n",
    "    plt.autoscale(axis='x', tight=True)\n",
    "    plt.plot(x,class_labels, label='Actual Price Trend')\n",
    "    plt.plot(x,classification, label='Predicted Price Trend')\n",
    "    plt.legend()\n",
    "    plt.show()\n",
    "    trend = (np.count_nonzero(class_labels == classification)/test_size) * 100\n",
    "    return trend"
   ]
  },
  {
   "cell_type": "code",
   "execution_count": null,
   "metadata": {},
   "outputs": [],
   "source": [
    "trend_classifier(a1, df['4. close'], test_size)"
   ]
  },
  {
   "cell_type": "code",
   "execution_count": null,
   "metadata": {},
   "outputs": [],
   "source": [
    "trend_classifier(a2, df['4. close'], test_size)"
   ]
  },
  {
   "cell_type": "code",
   "execution_count": null,
   "metadata": {},
   "outputs": [],
   "source": [
    "trend_classifier(a3, df['4. close'], test_size)"
   ]
  },
  {
   "cell_type": "code",
   "execution_count": null,
   "metadata": {},
   "outputs": [],
   "source": [
    "trend_classifier(a4, df['4. close'], test_size)"
   ]
  },
  {
   "cell_type": "code",
   "execution_count": null,
   "metadata": {},
   "outputs": [],
   "source": [
    "trend_classifier(a5, df['4. close'], test_size)"
   ]
  },
  {
   "cell_type": "code",
   "execution_count": null,
   "metadata": {},
   "outputs": [],
   "source": [
    "trend_classifier(a6, df['4. close'], test_size)"
   ]
  },
  {
   "cell_type": "code",
   "execution_count": null,
   "metadata": {},
   "outputs": [],
   "source": [
    "trend_classifier(a7, df['4. close'], test_size)"
   ]
  },
  {
   "cell_type": "code",
   "execution_count": null,
   "metadata": {},
   "outputs": [],
   "source": [
    "trend_classifier(a8, df['4. close'], test_size)"
   ]
  },
  {
   "cell_type": "code",
   "execution_count": null,
   "metadata": {},
   "outputs": [],
   "source": [
    "trend_classifier(a9, df['4. close'], test_size)"
   ]
  },
  {
   "cell_type": "code",
   "execution_count": null,
   "metadata": {},
   "outputs": [],
   "source": [
    "trend_classifier(a10, df['4. close'], test_size)"
   ]
  },
  {
   "cell_type": "code",
   "execution_count": null,
   "metadata": {},
   "outputs": [],
   "source": [
    "trend_classifier(a11, df['4. close'], test_size)"
   ]
  },
  {
   "cell_type": "code",
   "execution_count": null,
   "metadata": {},
   "outputs": [],
   "source": [
    "trend_classifier(a12, df['4. close'], test_size)"
   ]
  },
  {
   "cell_type": "code",
   "execution_count": null,
   "metadata": {},
   "outputs": [],
   "source": [
    "trend_classifier(a13, df['4. close'], test_size)"
   ]
  },
  {
   "cell_type": "code",
   "execution_count": null,
   "metadata": {},
   "outputs": [],
   "source": [
    "trend_classifier(a14, df['4. close'], test_size)"
   ]
  },
  {
   "cell_type": "code",
   "execution_count": null,
   "metadata": {},
   "outputs": [],
   "source": [
    "trend_classifier(a15, df['4. close'], test_size)"
   ]
  },
  {
   "cell_type": "code",
   "execution_count": null,
   "metadata": {},
   "outputs": [],
   "source": [
    "trend_classifier(best1, df['4. close'], test_size)"
   ]
  },
  {
   "cell_type": "code",
   "execution_count": null,
   "metadata": {},
   "outputs": [],
   "source": [
    "trend_classifier(best2, df['4. close'], test_size)"
   ]
  },
  {
   "cell_type": "code",
   "execution_count": null,
   "metadata": {},
   "outputs": [],
   "source": [
    "trend_classifier(best3, df['4. close'], test_size)"
   ]
  },
  {
   "cell_type": "code",
   "execution_count": null,
   "metadata": {},
   "outputs": [],
   "source": [
    "trend_classifier(best4, df['4. close'], test_size)"
   ]
  },
  {
   "cell_type": "code",
   "execution_count": null,
   "metadata": {},
   "outputs": [],
   "source": [
    "trend_classifier(best5, df['4. close'], test_size)"
   ]
  },
  {
   "cell_type": "code",
   "execution_count": null,
   "metadata": {},
   "outputs": [],
   "source": [
    "trend_classifier(best6, df['4. close'], test_size)"
   ]
  },
  {
   "cell_type": "code",
   "execution_count": null,
   "metadata": {},
   "outputs": [],
   "source": [
    "trend_classifier(best7, df['4. close'], test_size)"
   ]
  },
  {
   "cell_type": "code",
   "execution_count": null,
   "metadata": {},
   "outputs": [],
   "source": [
    "trend_classifier(best8, df['4. close'], test_size)"
   ]
  },
  {
   "cell_type": "code",
   "execution_count": null,
   "metadata": {},
   "outputs": [],
   "source": [
    "trend_classifier(best9, df['4. close'], test_size)"
   ]
  },
  {
   "cell_type": "code",
   "execution_count": null,
   "metadata": {},
   "outputs": [],
   "source": [
    "trend_classifier(best10, df['4. close'], test_size)"
   ]
  },
  {
   "cell_type": "code",
   "execution_count": null,
   "metadata": {},
   "outputs": [],
   "source": [
    "trend_classifier(best11, df['4. close'], test_size)"
   ]
  },
  {
   "cell_type": "code",
   "execution_count": null,
   "metadata": {},
   "outputs": [],
   "source": [
    "trend_classifier(best12, df['4. close'], test_size)"
   ]
  },
  {
   "cell_type": "code",
   "execution_count": null,
   "metadata": {},
   "outputs": [],
   "source": [
    "trend_classifier(best13, df['4. close'], test_size)"
   ]
  },
  {
   "cell_type": "code",
   "execution_count": null,
   "metadata": {},
   "outputs": [],
   "source": [
    "trend_classifier(best14, df['4. close'], test_size)"
   ]
  },
  {
   "cell_type": "code",
   "execution_count": null,
   "metadata": {},
   "outputs": [],
   "source": [
    "trend_classifier(best15, df['4. close'], test_size)"
   ]
  }
 ],
 "metadata": {
  "kernelspec": {
   "display_name": "Python 3",
   "language": "python",
   "name": "python3"
  },
  "language_info": {
   "codemirror_mode": {
    "name": "ipython",
    "version": 3
   },
   "file_extension": ".py",
   "mimetype": "text/x-python",
   "name": "python",
   "nbconvert_exporter": "python",
   "pygments_lexer": "ipython3",
   "version": "3.7.3"
  }
 },
 "nbformat": 4,
 "nbformat_minor": 2
}
