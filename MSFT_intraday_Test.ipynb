{
 "cells": [
  {
   "cell_type": "code",
   "execution_count": 2,
   "metadata": {},
   "outputs": [
    {
     "name": "stdout",
     "output_type": "stream",
     "text": [
      "cuda\n"
     ]
    }
   ],
   "source": [
    "import numpy as np\n",
    "import pandas as pd\n",
    "import torch\n",
    "import torch.nn as nn\n",
    "import matplotlib.pyplot as plt\n",
    "import scipy.io as sio\n",
    "from sklearn.preprocessing import MinMaxScaler\n",
    "device = 'cuda' if torch.cuda.is_available() else 'cpu'\n",
    "print(device)"
   ]
  },
  {
   "cell_type": "code",
   "execution_count": 3,
   "metadata": {},
   "outputs": [],
   "source": [
    "msft = np.load('msft.npy')\n",
    "msft_data = msft[:,0]"
   ]
  },
  {
   "cell_type": "code",
   "execution_count": 1,
   "metadata": {},
   "outputs": [],
   "source": [
    "from alpha_vantage.timeseries import TimeSeries\n",
    "import matplotlib.pyplot as plt\n",
    "\n",
    "ts = TimeSeries(key='8VHYYYZR0BTCNJ2F', output_format='pandas')\n"
   ]
  },
  {
   "cell_type": "code",
   "execution_count": 7,
   "metadata": {},
   "outputs": [],
   "source": [
    "msft, msft_meta = ts.get_daily(symbol='MSFT', outputsize='full')\n",
    "msft_data = pd.DataFrame.to_numpy(msft)"
   ]
  },
  {
   "cell_type": "code",
   "execution_count": 78,
   "metadata": {},
   "outputs": [
    {
     "data": {
      "text/plain": [
       "array([[166.27 ],\n",
       "       [170.55 ],\n",
       "       [164.51 ],\n",
       "       [172.79 ],\n",
       "       [162.01 ],\n",
       "       [158.18 ],\n",
       "       [170.17 ],\n",
       "       [168.07 ],\n",
       "       [170.89 ],\n",
       "       [178.59 ],\n",
       "       [184.42 ],\n",
       "       [187.28 ],\n",
       "       [187.23 ],\n",
       "       [185.35 ],\n",
       "       [183.71 ],\n",
       "       [184.71 ],\n",
       "       [184.44 ],\n",
       "       [188.7  ],\n",
       "       [183.89 ],\n",
       "       [183.63 ],\n",
       "       [179.9  ],\n",
       "       [180.12 ],\n",
       "       [174.38 ],\n",
       "       [170.23 ],\n",
       "       [172.78 ],\n",
       "       [168.04 ],\n",
       "       [165.46 ],\n",
       "       [162.28 ],\n",
       "       [165.04 ],\n",
       "       [166.72 ],\n",
       "       [165.7  ],\n",
       "       [166.5  ],\n",
       "       [167.1  ],\n",
       "       [166.17 ],\n",
       "       [163.18 ],\n",
       "       [162.13 ],\n",
       "       [163.28 ],\n",
       "       [161.34 ],\n",
       "       [162.09 ],\n",
       "       [160.09 ],\n",
       "       [157.58 ],\n",
       "       [159.03 ],\n",
       "       [158.62 ],\n",
       "       [160.62 ],\n",
       "       [157.7  ],\n",
       "       [157.59 ],\n",
       "       [158.96 ],\n",
       "       [158.67 ],\n",
       "       [157.38 ],\n",
       "       [157.41 ],\n",
       "       [157.41 ],\n",
       "       [155.71 ],\n",
       "       [154.37 ],\n",
       "       [154.69 ],\n",
       "       [155.53 ],\n",
       "       [154.53 ],\n",
       "       [153.24 ],\n",
       "       [151.7  ],\n",
       "       [151.13 ],\n",
       "       [151.36 ],\n",
       "       [151.75 ],\n",
       "       [149.93 ],\n",
       "       [149.85 ],\n",
       "       [149.31 ],\n",
       "       [149.55 ],\n",
       "       [151.38 ],\n",
       "       [152.32 ],\n",
       "       [152.03 ],\n",
       "       [151.23 ],\n",
       "       [149.59 ],\n",
       "       [149.48 ],\n",
       "       [149.62 ],\n",
       "       [150.39 ],\n",
       "       [150.34 ],\n",
       "       [149.97 ],\n",
       "       [148.06 ],\n",
       "       [147.31 ],\n",
       "       [147.07 ],\n",
       "       [146.11 ],\n",
       "       [145.96 ],\n",
       "       [144.26 ],\n",
       "       [144.06 ],\n",
       "       [144.46 ],\n",
       "       [144.55 ],\n",
       "       [143.72 ],\n",
       "       [143.37 ],\n",
       "       [144.61 ],\n",
       "       [142.83 ],\n",
       "       [144.19 ],\n",
       "       [140.73 ],\n",
       "       [139.94 ],\n",
       "       [137.24 ],\n",
       "       [136.37 ],\n",
       "       [138.43 ],\n",
       "       [137.41 ],\n",
       "       [139.69 ],\n",
       "       [140.41 ],\n",
       "       [141.575],\n",
       "       [139.55 ],\n",
       "       [139.68 ],\n",
       "       [139.1  ],\n",
       "       [138.24 ],\n",
       "       [135.67 ],\n",
       "       [137.12 ],\n",
       "       [138.12 ],\n",
       "       [136.28 ],\n",
       "       [134.65 ],\n",
       "       [137.07 ],\n",
       "       [139.03 ],\n",
       "       [137.73 ],\n",
       "       [139.54 ],\n",
       "       [139.36 ],\n",
       "       [137.38 ],\n",
       "       [139.14 ],\n",
       "       [139.44 ],\n",
       "       [141.07 ],\n",
       "       [138.52 ],\n",
       "       [137.39 ],\n",
       "       [136.33 ],\n",
       "       [137.32 ],\n",
       "       [137.52 ],\n",
       "       [136.12 ],\n",
       "       [136.08 ],\n",
       "       [137.52 ],\n",
       "       [139.1  ],\n",
       "       [140.05 ],\n",
       "       [137.63 ],\n",
       "       [136.04 ],\n",
       "       [137.86 ],\n",
       "       [138.12 ],\n",
       "       [135.56 ],\n",
       "       [135.74 ],\n",
       "       [135.45 ],\n",
       "       [133.39 ],\n",
       "       [137.78 ],\n",
       "       [138.79 ],\n",
       "       [137.26 ],\n",
       "       [138.41 ],\n",
       "       [136.13 ],\n",
       "       [133.68 ],\n",
       "       [133.98 ],\n",
       "       [138.6  ],\n",
       "       [135.79 ],\n",
       "       [137.71 ],\n",
       "       [138.89 ],\n",
       "       [135.28 ],\n",
       "       [134.69 ],\n",
       "       [132.21 ],\n",
       "       [136.9  ],\n",
       "       [138.06 ],\n",
       "       [136.27 ],\n",
       "       [140.35 ],\n",
       "       [141.03 ],\n",
       "       [141.34 ],\n",
       "       [140.19 ],\n",
       "       [140.72 ],\n",
       "       [139.29 ],\n",
       "       [138.43 ],\n",
       "       [136.62 ],\n",
       "       [136.42 ],\n",
       "       [136.27 ],\n",
       "       [137.08 ],\n",
       "       [138.9  ],\n",
       "       [138.9  ],\n",
       "       [138.4  ],\n",
       "       [137.85 ],\n",
       "       [136.46 ],\n",
       "       [136.96 ],\n",
       "       [137.06 ],\n",
       "       [137.46 ],\n",
       "       [136.58 ],\n",
       "       [135.68 ],\n",
       "       [133.96 ],\n",
       "       [134.15 ],\n",
       "       [133.93 ],\n",
       "       [133.43 ],\n",
       "       [137.78 ],\n",
       "       [136.97 ],\n",
       "       [136.95 ],\n",
       "       [135.69 ],\n",
       "       [135.16 ],\n",
       "       [132.85 ],\n",
       "       [132.45 ],\n",
       "       [132.32 ],\n",
       "       [131.49 ],\n",
       "       [132.1  ],\n",
       "       [132.6  ],\n",
       "       [131.4  ],\n",
       "       [127.82 ],\n",
       "       [125.83 ],\n",
       "       [123.16 ],\n",
       "       [119.84 ],\n",
       "       [123.68 ],\n",
       "       [125.73 ],\n",
       "       [124.94 ],\n",
       "       [126.16 ],\n",
       "       [126.24 ],\n",
       "       [126.18 ],\n",
       "       [127.67 ],\n",
       "       [126.9  ],\n",
       "       [126.22 ],\n",
       "       [128.07 ],\n",
       "       [128.93 ],\n",
       "       [126.02 ],\n",
       "       [124.73 ],\n",
       "       [123.35 ],\n",
       "       [127.13 ],\n",
       "       [125.5  ],\n",
       "       [125.51 ],\n",
       "       [125.52 ],\n",
       "       [128.15 ],\n",
       "       [128.9  ],\n",
       "       [126.21 ],\n",
       "       [127.88 ],\n",
       "       [130.6  ],\n",
       "       [129.77 ],\n",
       "       [129.89 ],\n",
       "       [129.15 ],\n",
       "       [125.01 ],\n",
       "       [125.44 ],\n",
       "       [123.76 ],\n",
       "       [123.37 ],\n",
       "       [121.77 ]])"
      ]
     },
     "execution_count": 78,
     "metadata": {},
     "output_type": "execute_result"
    }
   ],
   "source": [
    "msft_data[0:223, 3:4]"
   ]
  },
  {
   "cell_type": "code",
   "execution_count": 89,
   "metadata": {},
   "outputs": [],
   "source": [
    "train_data = msft_data[0:243, 3]\n",
    "test_data = msft_data[243:253, 3]\n",
    "scaler = MinMaxScaler(feature_range=(-1, 1))\n",
    "train_data_normalized = scaler.fit_transform(train_data.reshape(-1, 1))"
   ]
  },
  {
   "cell_type": "code",
   "execution_count": 90,
   "metadata": {},
   "outputs": [],
   "source": [
    "train_input = torch.from_numpy(train_data_normalized).type(torch.Tensor).view(-1)"
   ]
  },
  {
   "cell_type": "code",
   "execution_count": 91,
   "metadata": {},
   "outputs": [],
   "source": [
    "def create_inout_sequences(input_data, tw):\n",
    "    inout_seq = []\n",
    "    L = len(input_data)\n",
    "    for i in range(L-tw):\n",
    "        train_seq = input_data[i:i+tw]\n",
    "        train_label = input_data[i+tw:i+tw+1]\n",
    "        train_seq = train_seq.to(device)\n",
    "        train_label = train_label.to(device)\n",
    "        inout_seq.append((train_seq ,train_label))\n",
    "    return inout_seq\n",
    "\n",
    "train_inout_seq = create_inout_sequences(train_input, 5)"
   ]
  },
  {
   "cell_type": "code",
   "execution_count": 92,
   "metadata": {},
   "outputs": [],
   "source": [
    "class LSTM(nn.Module):\n",
    "    def __init__(self, input_size=1, hidden_layer_size=100, output_size=1):\n",
    "        super().__init__()\n",
    "        self.hidden_layer_size = hidden_layer_size\n",
    "\n",
    "        self.lstm = nn.LSTM(input_size, hidden_layer_size)\n",
    "\n",
    "        self.linear = nn.Linear(hidden_layer_size, output_size)\n",
    "\n",
    "        self.hidden_cell = (torch.zeros(1,1,self.hidden_layer_size),\n",
    "                            torch.zeros(1,1,self.hidden_layer_size))\n",
    "\n",
    "    def forward(self, input_seq):\n",
    "        lstm_out, self.hidden_cell = self.lstm(input_seq.view(len(input_seq) ,1, -1), self.hidden_cell)\n",
    "        predictions = self.linear(lstm_out.view(len(input_seq), -1))\n",
    "        return predictions[-1]\n",
    "\n",
    "model = LSTM()\n",
    "model = model.to(device)\n",
    "loss_function = nn.MSELoss()\n",
    "optimizer = torch.optim.Adam(model.parameters(), lr=0.001)"
   ]
  },
  {
   "cell_type": "code",
   "execution_count": 93,
   "metadata": {},
   "outputs": [
    {
     "name": "stdout",
     "output_type": "stream",
     "text": [
      "Epoch  0 MSE:  0.00033664394868537784\n",
      "Epoch  200 MSE:  0.0026731977704912424\n",
      "Epoch  300 MSE:  0.002123563550412655\n",
      "Epoch  400 MSE:  8.394240285269916e-05\n",
      "Epoch  500 MSE:  0.00020300588221289217\n",
      "Epoch  600 MSE:  0.0004962433595210314\n",
      "Epoch  700 MSE:  0.0004925774992443621\n",
      "Epoch  800 MSE:  0.00044223619624972343\n",
      "Epoch  900 MSE:  0.0005340102361515164\n"
     ]
    }
   ],
   "source": [
    "epochs = 1000\n",
    "\n",
    "for i in range(epochs):\n",
    "    for seq, labels in train_inout_seq:\n",
    "        optimizer.zero_grad()\n",
    "        model.hidden_cell = (torch.zeros(1, 1, model.hidden_layer_size).to(device),\n",
    "                        torch.zeros(1, 1, model.hidden_layer_size).to(device))\n",
    "\n",
    "        y_pred = model(seq)\n",
    "\n",
    "        single_loss = loss_function(y_pred, labels)\n",
    "        single_loss.backward()\n",
    "        optimizer.step()\n",
    "        \n",
    "    if i % 100 == 0:\n",
    "        print(\"Epoch \", i, \"MSE: \", single_loss.item())"
   ]
  },
  {
   "cell_type": "code",
   "execution_count": 94,
   "metadata": {},
   "outputs": [
    {
     "name": "stdout",
     "output_type": "stream",
     "text": [
      "[-0.9683024883270264, -0.975253701210022, -0.9922146797180176, -0.9040734171867371, -0.979146420955658]\n"
     ]
    }
   ],
   "source": [
    "test_inputs = train_input[-5:].tolist()\n",
    "print(test_inputs)\n",
    "\n",
    "model.eval()\n",
    "\n",
    "for i in range(10):\n",
    "    seq = torch.FloatTensor(test_inputs[-5:]).to(device)\n",
    "    with torch.no_grad():\n",
    "        model.hidden = (torch.zeros(1, 1, model.hidden_layer_size).to(device),\n",
    "                        torch.zeros(1, 1, model.hidden_layer_size).to(device))\n",
    "        test_inputs.append(model(seq).item())"
   ]
  },
  {
   "cell_type": "code",
   "execution_count": 95,
   "metadata": {},
   "outputs": [
    {
     "name": "stdout",
     "output_type": "stream",
     "text": [
      "[-0.9683024883270264, -0.975253701210022, -0.9922146797180176, -0.9040734171867371, -0.979146420955658, -0.9146796464920044, -1.2333507537841797, -1.2579902410507202, -0.2844604551792145, -1.331786036491394, -0.6824066638946533, -1.0040407180786133, -0.6008066534996033, -0.5198773145675659, -0.2867624759674072]\n",
      "[[119.83854651]\n",
      " [108.37754014]\n",
      " [107.49138098]\n",
      " [142.50437973]\n",
      " [104.8373152 ]\n",
      " [128.19224433]\n",
      " [116.62467557]\n",
      " [131.12698871]\n",
      " [134.03761238]\n",
      " [142.42158755]]\n",
      "1.2718143129834405\n"
     ]
    }
   ],
   "source": [
    "print(test_inputs)\n",
    "actual_predictions = scaler.inverse_transform(np.array(test_inputs[5:] ).reshape(-1, 1))\n",
    "test_data_normalized = scaler.fit_transform(test_data.reshape(-1, 1))\n",
    "print(actual_predictions)\n",
    "MSE = np.square(np.subtract(test_data_normalized,test_inputs)).mean()\n",
    "print(MSE)"
   ]
  },
  {
   "cell_type": "code",
   "execution_count": 96,
   "metadata": {},
   "outputs": [
    {
     "name": "stdout",
     "output_type": "stream",
     "text": [
      "10\n"
     ]
    }
   ],
   "source": [
    "print(len(actual_predictions))"
   ]
  },
  {
   "cell_type": "code",
   "execution_count": 99,
   "metadata": {},
   "outputs": [
    {
     "name": "stdout",
     "output_type": "stream",
     "text": [
      "10\n"
     ]
    }
   ],
   "source": [
    "x = np.arange(243, 253, 1)\n",
    "print(len(x))"
   ]
  },
  {
   "cell_type": "code",
   "execution_count": 100,
   "metadata": {},
   "outputs": [
    {
     "name": "stderr",
     "output_type": "stream",
     "text": [
      "/opt/conda/lib/python3.7/site-packages/ipykernel_launcher.py:8: MatplotlibDeprecationWarning: Adding an axes using the same arguments as a previous axes currently reuses the earlier instance.  In a future version, a new instance will always be created and returned.  Meanwhile, this warning can be suppressed, and the future behavior ensured, by passing a unique label to each axes instance.\n",
      "  \n"
     ]
    },
    {
     "data": {
      "text/plain": [
       "<matplotlib.legend.Legend at 0x7f15f6d43e10>"
      ]
     },
     "execution_count": 100,
     "metadata": {},
     "output_type": "execute_result"
    },
    {
     "data": {
      "image/png": "[encoded data removed]",
      "text/plain": [
       "<Figure size 432x288 with 1 Axes>"
      ]
     },
     "metadata": {
      "needs_background": "light"
     },
     "output_type": "display_data"
    }
   ],
   "source": [
    "plt.show()\n",
    "plt.ylabel('Stock Price')\n",
    "plt.grid(True)\n",
    "plt.autoscale(axis='x', tight=True)\n",
    "plt.plot(train_data)\n",
    "plt.plot(x, test_data, label='MSFT Stock price (over 5 days)')\n",
    "plt.plot(x,actual_predictions, label='Predicted Values')\n",
    "ax = plt.subplot(111)\n",
    "ax.legend()"
   ]
  },
  {
   "cell_type": "code",
   "execution_count": null,
   "metadata": {},
   "outputs": [],
   "source": []
  },
  {
   "cell_type": "code",
   "execution_count": null,
   "metadata": {},
   "outputs": [],
   "source": []
  }
 ],
 "metadata": {
  "kernelspec": {
   "display_name": "Python 3",
   "language": "python",
   "name": "python3"
  },
  "language_info": {
   "codemirror_mode": {
    "name": "ipython",
    "version": 3
   },
   "file_extension": ".py",
   "mimetype": "text/x-python",
   "name": "python",
   "nbconvert_exporter": "python",
   "pygments_lexer": "ipython3",
   "version": "3.7.3"
  }
 },
 "nbformat": 4,
 "nbformat_minor": 2
}
